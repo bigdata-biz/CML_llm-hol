{
 "cells": [
  {
   "cell_type": "markdown",
   "id": "49d9247e-dcb8-4e7f-b37e-29580efb7d16",
   "metadata": {},
   "source": [
    "### 1.8 Cloudera AI에서 배포된 LLM 모델 호출\n",
    "이 노트북에서는  Cloudera AI에 Model Deployments 기능을 활용하여 호스팅된 LLM 모델을 호출하는 방법에 대해 알아봅니다. 이 연습에는 Hugging Facese Mistral-7b-instruct 모델을 사용합니다.\n",
    "\n",
    "![image](../assets/jupypter-session-mistral.png)\n",
    "\n",
    "이 노트북에서 중요한 내용은 외부와 통신 없이 Cloudera AI에서 호스팅된 LLM 모델을 활용할 수 있다는 점입니다."
   ]
  },
  {
   "cell_type": "code",
   "execution_count": 18,
   "id": "ff231861-9eeb-4792-85e3-719a5d0fac8a",
   "metadata": {},
   "outputs": [],
   "source": [
    "import csv\n",
    "import requests\n",
    "import time\n",
    "import os\n",
    "import json"
   ]
  },
  {
   "cell_type": "markdown",
   "id": "df230d23-e67d-4e7a-a1fe-929479064916",
   "metadata": {},
   "source": [
    "#### 1.9 LLM 모델 호출을 위한 호출 정보 확인"
   ]
  },
  {
   "cell_type": "code",
   "execution_count": 11,
   "id": "1e07f800-39db-4eb2-bc21-e360e39a495a",
   "metadata": {},
   "outputs": [
    {
     "name": "stdout",
     "output_type": "stream",
     "text": [
      "https://modelservice.ml-c734cd85-e50.han-work.a465-9q4k.cloudera.site/model?accessKey=\n"
     ]
    }
   ],
   "source": [
    "# Cloudera AI에서 호스팅된 모델의 API endpoint URL\n",
    "endpoint = os.getenv(\"CDSW_API_URL\").replace(\"https://\", \"https://modelservice.\").replace(\"/api/v1\", \"/model?accessKey=\")\n",
    "print(endpoint)\n",
    "\n",
    "# 모델의 Access key는 모델을 배포한 프로젝트에서 확인할 수 있습니다.\n",
    "# 확인 방법 : LLM Model deploy for Hands on Lab 프로젝트 클릭 >  Model Deployments 클릭 > 모델 선택 > Settings > Access Key 복사 붙여넣기\n",
    "access_key = os.environ.get(\"LOCAL_MODEL_ACCESS_KEY\")"
   ]
  },
  {
   "cell_type": "markdown",
   "id": "630d1183-36ef-4eac-8d6c-06460e97d556",
   "metadata": {},
   "source": [
    "#### 1.10 LLM 모델 호출 테스트\n",
    "- 호출 프롬프트 및 사용 가능한 파라미터는 모델마다 상이합니다. 자세한 내용은 [mistral 문서](https://docs.mistral.ai/) 를 참고하세요"
   ]
  },
  {
   "cell_type": "code",
   "execution_count": 19,
   "id": "367cf75f-eadb-406a-aa30-406d777fa26a",
   "metadata": {},
   "outputs": [
    {
     "name": "stdout",
     "output_type": "stream",
     "text": [
      "### Instruction:\n",
      "You are a helpful and honest assistant. If you are unsure about an answer, truthfully say \"I don't know\"\n",
      "\n",
      "### Question:\n",
      "What is Cloudera?\n",
      "\n",
      "### Response:\n",
      "Cloudera is a software company that provides Apache Hadoop-based software for data processing and management across various environments, including on-premises, in the cloud, or as a hybrid of both. It offers tools to manage big data workloads, such as SQL queries, machine learning, and streaming analytics. The goal is to help businesses make sense of their large amounts of data more efficiently.\n"
     ]
    }
   ],
   "source": [
    "question = \"What is Cloudera?\"\n",
    "instruction = \"You are a helpful and honest assistant. If you are unsure about an answer, truthfully say \\\"I don't know\\\"\"\n",
    "prompt = f\"\"\"\\\n",
    "### Instruction:\n",
    "{instruction}\\n\n",
    "### Question:\n",
    "{question}\\n\n",
    "### Response:\n",
    "\"\"\"\n",
    "# Make request data\n",
    "data={ \"request\": {\"prompt\":prompt,\n",
    "                   \"temperature\":0.7,\n",
    "                   \"max_new_tokens\":200,\n",
    "                   \"repetition_penalty\":1.2} }\n",
    "\n",
    "response = requests.post(endpoint + access_key, data=json.dumps(data), headers={'Content-Type': 'application/json'})\n",
    "result = response.json()['response']['result']\n",
    "print(result)"
   ]
  },
  {
   "cell_type": "markdown",
   "id": "62d6521d-8f61-410a-ab8c-cb604147f7ae",
   "metadata": {},
   "source": [
    "**(참고)** 현재 노트북에서 Cloudera AI에 배포된 모델을 호출하면 아래 이미지와 같이 호출 결과 및 로그에 대한 모니터링이 가능합니다."
   ]
  },
  {
   "cell_type": "markdown",
   "id": "41711f6d-8e05-4925-be02-6788bf3bb28a",
   "metadata": {},
   "source": [
    "![image](../assets/model-deploy-monitoring.png)"
   ]
  }
 ],
 "metadata": {
  "kernelspec": {
   "display_name": "Python 3 (ipykernel)",
   "language": "python",
   "name": "python3"
  },
  "language_info": {
   "codemirror_mode": {
    "name": "ipython",
    "version": 3
   },
   "file_extension": ".py",
   "mimetype": "text/x-python",
   "name": "python",
   "nbconvert_exporter": "python",
   "pygments_lexer": "ipython3",
   "version": "3.10.13"
  }
 },
 "nbformat": 4,
 "nbformat_minor": 5
}
